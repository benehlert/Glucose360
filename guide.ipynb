{
 "cells": [
  {
   "cell_type": "code",
   "execution_count": null,
   "metadata": {},
   "outputs": [],
   "source": [
    "# import package\n",
    "from preprocessing import *\n",
    "from features import *\n",
    "from plots import *\n",
    "from events import *"
   ]
  },
  {
   "cell_type": "markdown",
   "metadata": {},
   "source": [
    "---------- Preprocessing ----------"
   ]
  },
  {
   "cell_type": "code",
   "execution_count": null,
   "metadata": {},
   "outputs": [],
   "source": [
    "\"\"\"\n",
    "Import your data\n",
    "\n",
    "Function Arguments:\n",
    "path     - the path to a directory, .zip, or .csv that you want to import (mandatory argument)\n",
    "glucose  - name of the glucose value column in the .csv files being imported (\"Glucose Value (mg/dL)\" by default)\n",
    "time     - name of the timestamp column in the .csv files being imported (\"Timestamp (YYYY-MM-DDThh:mm:ss)\" by default)\n",
    "interval - resampling interval in minutes that the data should follow (5 by default)\n",
    "max_gap  - the maximum amount of minutes that a gap can be before it cannot be interpolated (45 by default)\n",
    "\"\"\"\n",
    "df = import_data(\"datasets\") # datasets is a directory containing 3 Dexcom-formatted .csv files\n",
    "df # Pandas DataFrame with 4 columns, multi-indexed by 'id'"
   ]
  },
  {
   "cell_type": "markdown",
   "metadata": {},
   "source": [
    "---------- Features ----------"
   ]
  },
  {
   "cell_type": "code",
   "execution_count": null,
   "metadata": {},
   "outputs": [],
   "source": [
    "\"\"\"\n",
    "Calculate all available metrics\n",
    "\"\"\"\n",
    "metrics = create_features(df)\n",
    "metrics # Pandas DataFrame multi-indexed by 'id': one row per patient (.csv file) and one column per metric/statistic"
   ]
  },
  {
   "cell_type": "code",
   "execution_count": null,
   "metadata": {},
   "outputs": [],
   "source": [
    "\"\"\"\n",
    "Calculate only one metric for a single patient\n",
    "\"\"\"\n",
    "mage = MAGE(df.loc[\"ElizaSutherland\"]) # using MAGE as an example\n",
    "mage"
   ]
  },
  {
   "cell_type": "markdown",
   "metadata": {},
   "source": [
    "---------- Event Framework ---------- \\\n",
    "'Events' are broadly defined as any intervals of time that are believed to be of more significance.\n",
    "The package provides functionality for calculating 'episodes' (literature-defined ranges for hypo- and hyperglycemia) and 'excursions' \n",
    "(intervals where a patient's blood glucose values reach thresholds that are typically unusual for this patient), and we are currently \n",
    "working on meal detection. Alternatively, users can add in their own custom events. \\\n",
    "\\\n",
    "Each 'event' within the framework shares the same structure: the id of the patient it relates to, a timestamp indicating when the event occurs, the minutes before and after the given timestamp to also look at, the type of event it is (up to the user), and a description indicating any other relevant context about the event."
   ]
  },
  {
   "cell_type": "code",
   "execution_count": null,
   "metadata": {},
   "outputs": [],
   "source": [
    "\"\"\"\n",
    "Retrieve the curated events that the package provides functionality for (excursions and episodes).\n",
    "\"\"\"\n",
    "curated_events = get_curated_events(df)\n",
    "curated_events"
   ]
  },
  {
   "cell_type": "code",
   "execution_count": null,
   "metadata": {},
   "outputs": [],
   "source": [
    "\"\"\"\n",
    "Retrieve solely episodes or excursions instead\n",
    "\"\"\"\n",
    "episodes = get_episodes(df)\n",
    "excursions = get_excursions(df)"
   ]
  },
  {
   "cell_type": "code",
   "execution_count": null,
   "metadata": {},
   "outputs": [],
   "source": [
    "\"\"\"\n",
    "Manually create custom events\n",
    "\"\"\"\n",
    "\n",
    "# created event\n",
    "event = pd.DataFrame.from_records([{'id': \"ElizaSutherland\", \n",
    "                                    \"Timestamp (YYYY-MM-DDThh:mm:ss)\": '2023-07-11 12:55:32', \n",
    "                                    'Before': 10, 'After': 10, 'Type': \"example event\", 'Description': 'example event #1'}])\n",
    "\n",
    "event # example of how the curated events have the same structure as the manually added one"
   ]
  },
  {
   "cell_type": "code",
   "execution_count": null,
   "metadata": {},
   "outputs": [],
   "source": [
    "\"\"\"\n",
    "Alternatively, import events from .csv files (each row within a .csv file will be imported as an event)\n",
    "\n",
    "Function Arguments:\n",
    "path     - path of a directory, .zip, or .csv to import events from\n",
    "id       - id of the patient that the imported events belong to\n",
    "day_col  - name of the column indicating the day (year, month, and day) that the event occurred (\"Day\" by default)\n",
    "time_col - name of the column indicating what time during the day the event occurred (\"Time\" by default)\n",
    "before   - minutes before the given timestamp to look at (60 by default)\n",
    "after    - minutes after the given timestamp to look at (60 by default)\n",
    "type     - what 'type' the imported events should be classified as (\"imported event\" by default)\n",
    "\"\"\"\n",
    "imported_events = import_events(\"imported_events/FakeMeals.csv\", \"ElizaSutherland\", type=\"Cronometer Meals\")\n",
    "imported_events"
   ]
  },
  {
   "cell_type": "code",
   "execution_count": null,
   "metadata": {},
   "outputs": [],
   "source": [
    "\"\"\"\n",
    "Combining all the events together\n",
    "(Also an example of how the curated events have the same structure as the imported ones)\n",
    "\"\"\"\n",
    "events = pd.concat([event, imported_events, curated_events]).reset_index()\n",
    "events"
   ]
  },
  {
   "cell_type": "code",
   "execution_count": null,
   "metadata": {},
   "outputs": [],
   "source": [
    "\"\"\"\n",
    "Quick way to see whether your event 'types' have been consistently named\n",
    "\"\"\"\n",
    "event_summary(events)"
   ]
  },
  {
   "cell_type": "code",
   "execution_count": null,
   "metadata": {},
   "outputs": [],
   "source": [
    "\"\"\"\n",
    "Calculating statistics for events\n",
    "\"\"\"\n",
    "event_statistics(df, events) # same structure as create_features() above: multi-indexed Pandas DataFrame with one row per patient and one column per statistic"
   ]
  },
  {
   "cell_type": "markdown",
   "metadata": {},
   "source": [
    "---------- Plotting ---------- \\\n",
    "The package provides functionality for five different plots: Daily (Time-Series), Weekly (Time-Series), Event, Spaghetti, and AGP. \\\n",
    "For each of these plot types, two functions are available: one that sequentially generates the respective plot for all patients/events passed, and another that only generates a plot for a specific patient/event."
   ]
  },
  {
   "cell_type": "code",
   "execution_count": null,
   "metadata": {},
   "outputs": [],
   "source": [
    "\"\"\"\n",
    "Daily (Time-Series) Plots\n",
    "\n",
    "Extra Function Arguments:\n",
    "events - Pandas DataFrame containing events (in the same structure as in the framework above), results in vertical lines marking where the events occur on the plot (None by default)\n",
    "height - height (in pixels) of the resulting plot (2000 by default)\n",
    "\"\"\"\n",
    "daily_plot_all(df) # plots for all patients\n",
    "daily_plot(df, \"NathanielBarrow\", events=events) # would plot only for \"NathanielBarrow\" and show relevant events"
   ]
  },
  {
   "cell_type": "code",
   "execution_count": null,
   "metadata": {},
   "outputs": [],
   "source": [
    "\"\"\"\n",
    "Weekly (Time-Series) Plots\n",
    "\n",
    "Extra Function Arguments:\n",
    "height    - height (in pixels) of the resulting plot (1000 by default)\n",
    "\"\"\"\n",
    "weekly_plot_all(df) # plots for all patients\n",
    "weekly_plot(df, \"ElizaSutherland\") # would plot only for \"ElizaSutherland\""
   ]
  },
  {
   "cell_type": "code",
   "execution_count": null,
   "metadata": {},
   "outputs": [],
   "source": [
    "\"\"\"\n",
    "Spaghetti Plots\n",
    "\n",
    "Extra Function Arguments:\n",
    "chunk_day - boolean indicating whether to display two separate subplots based on whether values occur on a weekend or weekday (False by default)\n",
    "height    - height (in pixels) of the resulting plot (600 by default)\n",
    "\"\"\"\n",
    "spaghetti_plot_all(df) # plots for all patients\n",
    "spaghetti_plot(df, \"ElizaSutherland\") # would plot only for \"ElizaSutherland\""
   ]
  },
  {
   "cell_type": "code",
   "execution_count": null,
   "metadata": {},
   "outputs": [],
   "source": [
    "\"\"\"\n",
    "AGP Plots\n",
    "\n",
    "Extra Function Arguments:\n",
    "height    - height (in pixels) of the resulting plot (600 by default)\n",
    "\"\"\"\n",
    "AGP_plot_all(df) # plots for all patients\n",
    "AGP_plot(df, \"ElizaSutherland\") # would plot only for \"PenelopeFitzroy\""
   ]
  }
 ],
 "metadata": {
  "kernelspec": {
   "display_name": ".venv",
   "language": "python",
   "name": "python3"
  },
  "language_info": {
   "codemirror_mode": {
    "name": "ipython",
    "version": 3
   },
   "file_extension": ".py",
   "mimetype": "text/x-python",
   "name": "python",
   "nbconvert_exporter": "python",
   "pygments_lexer": "ipython3",
   "version": "3.9.6"
  },
  "orig_nbformat": 4
 },
 "nbformat": 4,
 "nbformat_minor": 2
}
